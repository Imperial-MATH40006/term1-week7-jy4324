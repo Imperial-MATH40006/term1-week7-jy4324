{
 "cells": [
  {
   "cell_type": "code",
   "execution_count": 29,
   "id": "d0f801a4-84e8-4236-a520-3cfa9456b591",
   "metadata": {},
   "outputs": [
    {
     "name": "stdout",
     "output_type": "stream",
     "text": [
      "Hello World\n",
      "Hello World\n",
      "Hello World\n"
     ]
    }
   ],
   "source": [
    "for n in range(3):\n",
    " print ('Hello World')"
   ]
  },
  {
   "cell_type": "code",
   "execution_count": 27,
   "id": "d5701723-4cd6-49b5-af17-2e1c7545d10f",
   "metadata": {},
   "outputs": [
    {
     "name": "stdout",
     "output_type": "stream",
     "text": [
      "0\n",
      "1\n",
      "4\n"
     ]
    }
   ],
   "source": [
    "for n in range(3):\n",
    " print(n**2)"
   ]
  },
  {
   "cell_type": "code",
   "execution_count": 35,
   "id": "35ed46d2-d150-4ea8-b9f3-bbb3c0560492",
   "metadata": {},
   "outputs": [
    {
     "name": "stdout",
     "output_type": "stream",
     "text": [
      "The square of 0 is 0\n",
      "The square of 1 is 1\n",
      "The square of 2 is 4\n"
     ]
    }
   ],
   "source": [
    "for n in range(3):\n",
    " print(f'The square of {n} is {n**2}')"
   ]
  },
  {
   "cell_type": "code",
   "execution_count": 9,
   "id": "0913cbbd-7076-44ce-bd85-50e20c79df9f",
   "metadata": {},
   "outputs": [
    {
     "data": {
      "text/plain": [
       "'find a value of x approximately equal to its own cosine'"
      ]
     },
     "execution_count": 9,
     "metadata": {},
     "output_type": "execute_result"
    }
   ],
   "source": [
    "'find a value of x approximately equal to its own cosine'"
   ]
  },
  {
   "cell_type": "code",
   "execution_count": 47,
   "id": "d973bc75-c092-486f-8c69-6bbddcdd678d",
   "metadata": {},
   "outputs": [
    {
     "name": "stdout",
     "output_type": "stream",
     "text": [
      "Iteration 1: 0.5403023058681398\n",
      "Iteration 2: 0.8575532158463933\n",
      "Iteration 3: 0.6542897904977792\n",
      "Iteration 4: 0.7934803587425655\n",
      "Iteration 5: 0.7013687736227566\n",
      "Iteration 6: 0.7639596829006542\n",
      "Iteration 7: 0.7221024250267077\n",
      "Iteration 8: 0.7504177617637605\n",
      "Iteration 9: 0.7314040424225098\n",
      "Iteration 10: 0.7442373549005569\n"
     ]
    }
   ],
   "source": [
    "from math import cos\n",
    "x = 1.0\n",
    "for n in range(10):\n",
    " x = cos(x)\n",
    " print(f'Iteration {n+1}: {x}')"
   ]
  },
  {
   "cell_type": "code",
   "execution_count": 7,
   "id": "d89b5d23-dc47-4a9d-9231-d105d798d66d",
   "metadata": {},
   "outputs": [
    {
     "data": {
      "text/plain": [
       "'iterate xn+1 = cosxn 3 10 times, x0=1.0, creating a list oof iterates'"
      ]
     },
     "execution_count": 7,
     "metadata": {},
     "output_type": "execute_result"
    }
   ],
   "source": [
    "'iterate xn+1 = cosxn 3 10 times, x0=1.0, creating a list oof iterates'"
   ]
  },
  {
   "cell_type": "code",
   "execution_count": 25,
   "id": "b5de5cf1-c494-47ca-8508-5805328ff8da",
   "metadata": {},
   "outputs": [
    {
     "name": "stdout",
     "output_type": "stream",
     "text": [
      "[1.0, 0.5403023058681398, 0.8575532158463933, 0.6542897904977792, 0.7934803587425655, 0.7013687736227566, 0.7639596829006542, 0.7221024250267077, 0.7504177617637605, 0.7314040424225098, 0.7442373549005569]\n"
     ]
    }
   ],
   "source": [
    "from math import cos\n",
    "x = 1.0\n",
    "list = [x]\n",
    "for n in range(10):\n",
    " x = cos(x)\n",
    " list.append(x)\n",
    "print(list)"
   ]
  },
  {
   "cell_type": "code",
   "execution_count": 81,
   "id": "7d293790-8ed2-4485-9a4f-0a2e0ce9aa79",
   "metadata": {},
   "outputs": [
    {
     "data": {
      "text/plain": [
       "'find sigma n for n=0 to n=10'"
      ]
     },
     "execution_count": 81,
     "metadata": {},
     "output_type": "execute_result"
    }
   ],
   "source": [
    "'find sigma n for n=0 to n=10'"
   ]
  },
  {
   "cell_type": "code",
   "execution_count": 57,
   "id": "dc2ac675-0017-408b-923c-e142fbd08564",
   "metadata": {},
   "outputs": [
    {
     "name": "stdout",
     "output_type": "stream",
     "text": [
      "0.0\n",
      "4.0\n",
      "12.0\n",
      "24.0\n",
      "40.0\n",
      "60.0\n",
      "84.0\n",
      "112.0\n",
      "144.0\n",
      "180.0\n",
      "220.0\n"
     ]
    }
   ],
   "source": [
    "total = 0.0\n",
    "for n in range(11):\n",
    "    total = total + 4*n\n",
    "    print(total)"
   ]
  },
  {
   "cell_type": "code",
   "execution_count": 95,
   "id": "1e731248-3ea5-42d4-9681-d0f07bc0219e",
   "metadata": {},
   "outputs": [
    {
     "data": {
      "text/plain": [
       "'iterate 10 times, starting with x0=y0=0.5'"
      ]
     },
     "execution_count": 95,
     "metadata": {},
     "output_type": "execute_result"
    }
   ],
   "source": [
    "'xn+1 = 1-1.4xn**2+yn' \n",
    "'yn+1 = 0.3xn'\n",
    "'iterate 10 times, starting with x0=y0=0.5'"
   ]
  },
  {
   "cell_type": "code",
   "execution_count": 97,
   "id": "83bce630-36b3-43b8-a7ca-7215f5af84e0",
   "metadata": {},
   "outputs": [
    {
     "name": "stdout",
     "output_type": "stream",
     "text": [
      "(1.15, 0.15)\n",
      "(-0.7014999999999995, 0.345)\n",
      "(0.656056850000001, -0.21044999999999983)\n",
      "(0.18697517339530675, 0.1968170550000003)\n",
      "(1.1478734533473132, 0.05609255201859203)\n",
      "(-0.7885662988406887, 0.34436203600419396)\n",
      "(0.47379050526997063, -0.2365698896522066)\n",
      "(0.4491616903102298, 0.1421371515809912)\n",
      "(0.8596924379217113, 0.13474850709306893)\n",
      "(0.1000489841453833, 0.2579077313765134)\n"
     ]
    }
   ],
   "source": [
    "x, y = 0.5, 0.5\n",
    "for n in range(10):\n",
    "    x, y = 1 - 1.4*x**2+y, 0.3*x\n",
    "    print (f'({x}, {y})')"
   ]
  },
  {
   "cell_type": "code",
   "execution_count": 107,
   "id": "76fc0084-97ba-4819-949f-6160ccc453d8",
   "metadata": {},
   "outputs": [
    {
     "data": {
      "text/plain": [
       "'create a list of 10 copies of the string Hello World!.'"
      ]
     },
     "execution_count": 107,
     "metadata": {},
     "output_type": "execute_result"
    }
   ],
   "source": [
    "'create a list of 3 copies of the string Hello World!.'"
   ]
  },
  {
   "cell_type": "code",
   "execution_count": 109,
   "id": "48437cd9-59bf-4f22-96d7-782ddd561267",
   "metadata": {},
   "outputs": [
    {
     "name": "stdout",
     "output_type": "stream",
     "text": [
      "['Hello World!']\n",
      "['Hello World!', 'Hello World!']\n",
      "['Hello World!', 'Hello World!', 'Hello World!']\n"
     ]
    }
   ],
   "source": [
    "list = []\n",
    "for n in range(3):\n",
    "    list.append ('Hello World!')\n",
    "    print(list)"
   ]
  },
  {
   "cell_type": "code",
   "execution_count": 111,
   "id": "cd77d0cf-0475-424a-9737-98f0cf52ed2f",
   "metadata": {},
   "outputs": [
    {
     "name": "stdout",
     "output_type": "stream",
     "text": [
      "['Hello World!', 'Hello World!', 'Hello World!']\n"
     ]
    }
   ],
   "source": [
    "list = []\n",
    "for n in range(3):\n",
    "    list.append('Hello World!')\n",
    "print(list)"
   ]
  },
  {
   "cell_type": "code",
   "execution_count": 113,
   "id": "dade7213-bf27-43bc-808f-948f4063beba",
   "metadata": {},
   "outputs": [
    {
     "data": {
      "text/plain": [
       "'create a list of all the squares of 0, 1, 2,.., 9'"
      ]
     },
     "execution_count": 113,
     "metadata": {},
     "output_type": "execute_result"
    }
   ],
   "source": [
    "'create a list of all the squares of 0, 1, 2,.., 9'"
   ]
  },
  {
   "cell_type": "code",
   "execution_count": 115,
   "id": "27610dee-1f25-4ea6-aadb-9b17854c1fb0",
   "metadata": {},
   "outputs": [
    {
     "name": "stdout",
     "output_type": "stream",
     "text": [
      "[0]\n",
      "[0, 1]\n",
      "[0, 1, 4]\n"
     ]
    }
   ],
   "source": [
    "list = []\n",
    "for n in range(3):\n",
    "    list.append(n**2)\n",
    "    print(list)"
   ]
  },
  {
   "cell_type": "code",
   "execution_count": 23,
   "id": "aaa33760-ffac-4e84-9ed5-fd867813d7cc",
   "metadata": {},
   "outputs": [
    {
     "data": {
      "text/plain": [
       "[<matplotlib.lines.Line2D at 0x1412794f0>]"
      ]
     },
     "execution_count": 23,
     "metadata": {},
     "output_type": "execute_result"
    },
    {
     "data": {
      "image/png": "[encoded data removed]",
      "text/plain": [
       "<Figure size 640x480 with 1 Axes>"
      ]
     },
     "metadata": {},
     "output_type": "display_data"
    }
   ],
   "source": [
    "list = []\n",
    "for n in range(3):\n",
    "    list.append(n**2)\n",
    "\n",
    "%matplotlib inline\n",
    "import matplotlib.pyplot as plt\n",
    "plt.plot(range(3), list, '.')\n",
    "plt.plot(range(3), list)"
   ]
  },
  {
   "cell_type": "code",
   "execution_count": 17,
   "id": "2ae9d73c-f89f-42cc-b994-f685a76ec50a",
   "metadata": {},
   "outputs": [
    {
     "name": "stdout",
     "output_type": "stream",
     "text": [
      "6\n"
     ]
    }
   ],
   "source": [
    "from math import factorial\n",
    "print(factorial(3))"
   ]
  },
  {
   "cell_type": "code",
   "execution_count": null,
   "id": "f8593e04-a068-4341-bd01-b66d5f6d427e",
   "metadata": {},
   "outputs": [],
   "source": []
  }
 ],
 "metadata": {
  "kernelspec": {
   "display_name": "Python 3 (ipykernel)",
   "language": "python",
   "name": "python3"
  },
  "language_info": {
   "codemirror_mode": {
    "name": "ipython",
    "version": 3
   },
   "file_extension": ".py",
   "mimetype": "text/x-python",
   "name": "python",
   "nbconvert_exporter": "python",
   "pygments_lexer": "ipython3",
   "version": "3.12.4"
  }
 },
 "nbformat": 4,
 "nbformat_minor": 5
}
